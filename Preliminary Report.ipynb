{
 "cells": [
  {
   "cell_type": "markdown",
   "metadata": {},
   "source": [
    "# COMP 499 Introduction to Data Analysis\n",
    "# Preliminary Report\n",
    "## Presented By: Genevieve Plante-Brisebois 40003112\n",
    "## Presented To : Greg Butler\n",
    "## Thursday June 6, 2019\n",
    "\n"
   ]
  },
  {
   "cell_type": "markdown",
   "metadata": {},
   "source": [
    "### Introduction of the dataset and report\n",
    "This is the prelimminary report for the course Data Analysis in Summer 2019 presented by Genevieve Plante-Brisebois. The dataset that is chosen to do the project is Google Play Store Apps taken from this website: https://www.kaggle.com/lava18/google-play-store-apps . The information in this dataset covers each app in respect with their name, rating, reviews, number of downloads, type, price, file size, content rating, genres, last version/update made, current version and the android version needed in order to run the apps. The dataset contains 9660 records. It is comprised of the csv document for the general information of the applications as described above and a csv document comprised of the reviews and given ratings to the applications. The Review csv is taking the top 100 reviews from each application which has received reviews. \n",
    "\n",
    "Using these datasets, there are multiple questions that I will attempt to answer and, as the answers are found, they will become the basis for the next one. This will be done in three stages. \n",
    "\n",
    "1- What is more popular and fruitfull between free and paid applications and predict the present and upcoming trend?\n",
    "\n",
    "To answer that question I will be making exploratory analysis of the data. I will be taking a look at the data and compare the number of downloads of each application and then try to see what is the one coming up on top in terms of poopularity by combining with the ratings. \n",
    "\n",
    "For an information purpose, the revenue of the paid apps will be calculated as it could help to see if it is profitable. However, it is impossible to get the information about the revenue for the free applications. If it would be possible to find the data of the revenue from the free applications with the adds it would be a good way to enrich the dataset and add another feature to analyse the set. \n",
    "\n",
    "2- What are the rising trends in the app type that will have won the previous question?\n",
    "\n",
    "This will try to answer if there are categories and target audiences that are more proeminent and are the trend or upcomming trends. This will again be done by doing exploratory data analysis. Just like with the previous question, it will be used to narrow down the amount of data that will be used in the next step. By further narowing our criterias, we will be able to bring ourselves to the last step of this process. \n",
    "\n",
    "\n",
    "3- Predict the impact of the reviews and rating on the number of downloads. \n",
    "\n",
    "From the selected apps in the previous questions, we will take a look at the reviews dataset. Using exploratory data analysis and natural language processing, we will try to create new feature that will hopefully allow us to see if there is a link between the reviews, the ratings and the success of an application in the trending categories. The success we are looking at for the apps in this case is the number of downloads. From the information found here we will try to predict the influence and potentially the growth of the applications that are present in these categories."
   ]
  },
  {
   "cell_type": "markdown",
   "metadata": {},
   "source": [
    "### Steps to Data retrieval \n",
    "\n",
    "In order to retrievee the data from this set, these are the steps to follow. \n",
    "\n",
    "1-Go to the www.kaggle.com website and create an account if you do not have one yet.\n",
    "\n",
    "2-Then there will be a need to go to the  https://www.kaggle.com/lava18/google-play-store-apps page and click on the download button at the top of the page. If you desire to have more information about the data set, you can read the page and see the information and summary that has been provided for this data set. \n",
    "\n",
    "3- Make sure that you are creating a data folder where you are having the jupyter book and in that data folder extract all the concerned information that is in the zip folder.  You should be able to have the googleplaystore.csv and the googleplaystore_user_reviews.csv file. \n",
    "\n",
    "\n",
    "Now in order to use the data directly via scripting, the data is also available by doing the following lines in python\n"
   ]
  },
  {
   "cell_type": "code",
   "execution_count": 1,
   "metadata": {},
   "outputs": [
    {
     "data": {
      "text/plain": [
       "('googleplaystore_user_reviews.csv',\n",
       " <http.client.HTTPMessage at 0x1a095d36e10>)"
      ]
     },
     "execution_count": 1,
     "metadata": {},
     "output_type": "execute_result"
    }
   ],
   "source": [
    "import urllib.request\n",
    "urllib.request.urlretrieve(\"https://drive.google.com/drive/folders/17Ad0l9iWsOooz4AGA6H1NbeF9nYS0tNY\", \"googleplaystore.csv\")\n",
    "urllib.request.urlretrieve(\"https://drive.google.com/drive/folders/17Ad0l9iWsOooz4AGA6H1NbeF9nYS0tNY\", \"googleplaystore_user_reviews.csv\")\n"
   ]
  },
  {
   "cell_type": "markdown",
   "metadata": {},
   "source": [
    "### Data Wrangling\n",
    "\n",
    "In this section the data wrangling will be done in order to clean the datasets as much as possible and to be able to do our analysis later. I will only note that the natural processing of the review data set will not be done now as this will be the whole task of the question 3, building the features and make the prediction. \n",
    "\n",
    "\n",
    "#### Importing Data, Data Types and Formatings the Dataframes"
   ]
  },
  {
   "cell_type": "code",
   "execution_count": 2,
   "metadata": {},
   "outputs": [
    {
     "name": "stdout",
     "output_type": "stream",
     "text": [
      "Index(['App', 'Category', 'Rating', 'Reviews', 'Size', 'Installs', 'Type',\n",
      "       'Price', 'Content Rating', 'Genres', 'Last Updated', 'Current Ver',\n",
      "       'Android Ver'],\n",
      "      dtype='object')\n",
      "App                object\n",
      "Category           object\n",
      "Rating            float64\n",
      "Reviews             int64\n",
      "Size               object\n",
      "Installs           object\n",
      "Type               object\n",
      "Price             float64\n",
      "Content Rating     object\n",
      "Genres             object\n",
      "Last Updated       object\n",
      "Current Ver        object\n",
      "Android Ver        object\n",
      "dtype: object\n"
     ]
    },
    {
     "data": {
      "text/plain": [
       "App                        object\n",
       "Translated_Review          object\n",
       "Sentiment                  object\n",
       "Sentiment_Polarity        float64\n",
       "Sentiment_Subjectivity    float64\n",
       "dtype: object"
      ]
     },
     "execution_count": 2,
     "metadata": {},
     "output_type": "execute_result"
    }
   ],
   "source": [
    "import pandas as pd\n",
    "\n",
    "\n",
    "google = pd.read_csv(\"data/googleplaystore.csv\")\n",
    "print(google.columns)\n",
    "review = pd.read_csv('data/googleplaystore_user_reviews.csv')\n",
    "#get data types \n",
    "print(google.dtypes)\n",
    "review.dtypes\n",
    "\n",
    "\n",
    "\n"
   ]
  },
  {
   "cell_type": "markdown",
   "metadata": {},
   "source": [
    "Now that we have the columns and the data types that we have to deal with, we can see if we need to cast some of the data types. From the data types here, we can see that we need to cast a few of them such as the price, number of reviews. "
   ]
  },
  {
   "cell_type": "code",
   "execution_count": 3,
   "metadata": {},
   "outputs": [
    {
     "data": {
      "text/plain": [
       "App                object\n",
       "Category           object\n",
       "Rating            float64\n",
       "Reviews             int64\n",
       "Size               object\n",
       "Installs           object\n",
       "Type               object\n",
       "Price             float64\n",
       "Content Rating     object\n",
       "Genres             object\n",
       "Last Updated       object\n",
       "Current Ver        object\n",
       "Android Ver        object\n",
       "dtype: object"
      ]
     },
     "execution_count": 3,
     "metadata": {},
     "output_type": "execute_result"
    }
   ],
   "source": [
    "google.Reviews.astype('int64')\n",
    "google.Price.astype('float64')\n",
    "google.dtypes"
   ]
  },
  {
   "cell_type": "markdown",
   "metadata": {},
   "source": [
    "From the data set of the reviews, we can see that there is the sentiment polarity and the sentiment subjectivity columns, however, there is no scale prrovided in the kaggle page so that we know what these data use as scales. As we do not know the scales, these columns will be dismissed from the data frame that we will be using for the project. "
   ]
  },
  {
   "cell_type": "code",
   "execution_count": 4,
   "metadata": {},
   "outputs": [
    {
     "data": {
      "text/html": [
       "<div>\n",
       "<style scoped>\n",
       "    .dataframe tbody tr th:only-of-type {\n",
       "        vertical-align: middle;\n",
       "    }\n",
       "\n",
       "    .dataframe tbody tr th {\n",
       "        vertical-align: top;\n",
       "    }\n",
       "\n",
       "    .dataframe thead th {\n",
       "        text-align: right;\n",
       "    }\n",
       "</style>\n",
       "<table border=\"1\" class=\"dataframe\">\n",
       "  <thead>\n",
       "    <tr style=\"text-align: right;\">\n",
       "      <th></th>\n",
       "      <th>App</th>\n",
       "      <th>Translated_Review</th>\n",
       "      <th>Sentiment</th>\n",
       "    </tr>\n",
       "  </thead>\n",
       "  <tbody>\n",
       "    <tr>\n",
       "      <th>0</th>\n",
       "      <td>10 Best Foods for You</td>\n",
       "      <td>I like eat delicious food. That's I'm cooking ...</td>\n",
       "      <td>Positive</td>\n",
       "    </tr>\n",
       "    <tr>\n",
       "      <th>1</th>\n",
       "      <td>10 Best Foods for You</td>\n",
       "      <td>This help eating healthy exercise regular basis</td>\n",
       "      <td>Positive</td>\n",
       "    </tr>\n",
       "    <tr>\n",
       "      <th>2</th>\n",
       "      <td>10 Best Foods for You</td>\n",
       "      <td>NaN</td>\n",
       "      <td>NaN</td>\n",
       "    </tr>\n",
       "    <tr>\n",
       "      <th>3</th>\n",
       "      <td>10 Best Foods for You</td>\n",
       "      <td>Works great especially going grocery store</td>\n",
       "      <td>Positive</td>\n",
       "    </tr>\n",
       "    <tr>\n",
       "      <th>4</th>\n",
       "      <td>10 Best Foods for You</td>\n",
       "      <td>Best idea us</td>\n",
       "      <td>Positive</td>\n",
       "    </tr>\n",
       "  </tbody>\n",
       "</table>\n",
       "</div>"
      ],
      "text/plain": [
       "                     App                                  Translated_Review  \\\n",
       "0  10 Best Foods for You  I like eat delicious food. That's I'm cooking ...   \n",
       "1  10 Best Foods for You    This help eating healthy exercise regular basis   \n",
       "2  10 Best Foods for You                                                NaN   \n",
       "3  10 Best Foods for You         Works great especially going grocery store   \n",
       "4  10 Best Foods for You                                       Best idea us   \n",
       "\n",
       "  Sentiment  \n",
       "0  Positive  \n",
       "1  Positive  \n",
       "2       NaN  \n",
       "3  Positive  \n",
       "4  Positive  "
      ]
     },
     "execution_count": 4,
     "metadata": {},
     "output_type": "execute_result"
    }
   ],
   "source": [
    "review = review[['App', 'Translated_Review', 'Sentiment']]\n",
    "review.head()"
   ]
  },
  {
   "cell_type": "markdown",
   "metadata": {},
   "source": [
    "#### Data Cleaning\n",
    "\n",
    "Now we can try to see if we have any nan values for all the columns"
   ]
  },
  {
   "cell_type": "code",
   "execution_count": 5,
   "metadata": {},
   "outputs": [
    {
     "name": "stdout",
     "output_type": "stream",
     "text": [
      "App                  0\n",
      "Category             0\n",
      "Rating            1474\n",
      "Reviews              0\n",
      "Size                 0\n",
      "Installs             0\n",
      "Type                 1\n",
      "Price                0\n",
      "Content Rating       0\n",
      "Genres               1\n",
      "Last Updated         0\n",
      "Current Ver          8\n",
      "Android Ver          2\n",
      "dtype: int64 \n",
      "\n",
      "App                      0\n",
      "Translated_Review    26868\n",
      "Sentiment            26863\n",
      "dtype: int64\n"
     ]
    }
   ],
   "source": [
    "print(google.isnull().sum(),'\\n')\n",
    "print(review.isnull().sum())"
   ]
  },
  {
   "cell_type": "markdown",
   "metadata": {},
   "source": [
    "Now that we kow which values have some nan values, we can look into the means, for those that are applicable and see how we are going to handle the data in order to know how we are going to handle the nan values. \n",
    "\n",
    "For the review dataset, the only way to really handle it will be to take out the rows that have nan values as there are too many nan values. Moreover, for the reviews, we will be focussing later on natural language processing, which means that we do not want nan values and we only want to evaluate the reviews where a comment was left behind. The other reviews were most likely simply someone who decided to only give a star rating and no commentary review. As both rating from the google dataset and the comment reviews left will be taken into account in order to try to make predictions, taking away the nan rows from the review dataset is ok.  \n",
    "\n",
    "For the general app dataset, it will be possible to use mean values or default values in order to take care of those nan values. Once we take care of the nan values we will be able to normalize. "
   ]
  },
  {
   "cell_type": "code",
   "execution_count": 6,
   "metadata": {},
   "outputs": [
    {
     "data": {
      "text/plain": [
       "count    9367.000000\n",
       "mean        4.193338\n",
       "std         0.537431\n",
       "min         1.000000\n",
       "25%         4.000000\n",
       "50%         4.300000\n",
       "75%         4.500000\n",
       "max        19.000000\n",
       "Name: Rating, dtype: float64"
      ]
     },
     "execution_count": 6,
     "metadata": {},
     "output_type": "execute_result"
    }
   ],
   "source": [
    "review = review.dropna()\n",
    "\n",
    "google.Rating.describe()\n"
   ]
  },
  {
   "cell_type": "code",
   "execution_count": 7,
   "metadata": {},
   "outputs": [],
   "source": [
    "mean_r = google.Rating.mean()\n",
    "google['Rating'].fillna(value=mean_r, inplace = True)"
   ]
  },
  {
   "cell_type": "code",
   "execution_count": 8,
   "metadata": {},
   "outputs": [
    {
     "name": "stdout",
     "output_type": "stream",
     "text": [
      "App               0\n",
      "Category          0\n",
      "Rating            0\n",
      "Reviews           0\n",
      "Size              0\n",
      "Installs          0\n",
      "Type              1\n",
      "Price             0\n",
      "Content Rating    0\n",
      "Genres            1\n",
      "Last Updated      0\n",
      "Current Ver       8\n",
      "Android Ver       2\n",
      "dtype: int64 \n",
      "\n"
     ]
    }
   ],
   "source": [
    "print(google.isnull().sum(),'\\n')\n"
   ]
  },
  {
   "cell_type": "code",
   "execution_count": 9,
   "metadata": {},
   "outputs": [
    {
     "data": {
      "text/plain": [
       "count     10840\n",
       "unique        2\n",
       "top        Free\n",
       "freq      10040\n",
       "Name: Type, dtype: object"
      ]
     },
     "execution_count": 9,
     "metadata": {},
     "output_type": "execute_result"
    }
   ],
   "source": [
    "google.Type.describe()"
   ]
  },
  {
   "cell_type": "code",
   "execution_count": 10,
   "metadata": {},
   "outputs": [
    {
     "data": {
      "text/plain": [
       "array(['Free', 'Paid', nan], dtype=object)"
      ]
     },
     "execution_count": 10,
     "metadata": {},
     "output_type": "execute_result"
    }
   ],
   "source": [
    "google['Type'].unique()"
   ]
  },
  {
   "cell_type": "markdown",
   "metadata": {},
   "source": [
    "For the last nan values in the set, the values cannot be assumed. If we do not have a version of the software or the version of Android needed we cannot simply guess those values. However, as there are only a few data that contain nan, 12, and that our dataset is quite large, 9000+ , it will not have a major impact to remove those nan values."
   ]
  },
  {
   "cell_type": "code",
   "execution_count": 11,
   "metadata": {},
   "outputs": [
    {
     "name": "stdout",
     "output_type": "stream",
     "text": [
      "Google Store General Information Dataset:\n",
      "\n",
      "App               0\n",
      "Category          0\n",
      "Rating            0\n",
      "Reviews           0\n",
      "Size              0\n",
      "Installs          0\n",
      "Type              0\n",
      "Price             0\n",
      "Content Rating    0\n",
      "Genres            0\n",
      "Last Updated      0\n",
      "Current Ver       0\n",
      "Android Ver       0\n",
      "dtype: int64 \n",
      "\n",
      "App                object\n",
      "Category           object\n",
      "Rating            float64\n",
      "Reviews             int64\n",
      "Size               object\n",
      "Installs           object\n",
      "Type               object\n",
      "Price             float64\n",
      "Content Rating     object\n",
      "Genres             object\n",
      "Last Updated       object\n",
      "Current Ver        object\n",
      "Android Ver        object\n",
      "dtype: object \n",
      "\n",
      "\n",
      "Reviews of the applications dataset: \n",
      "\n",
      "App                  0\n",
      "Translated_Review    0\n",
      "Sentiment            0\n",
      "dtype: int64 \n",
      "\n",
      "App                  object\n",
      "Translated_Review    object\n",
      "Sentiment            object\n",
      "dtype: object\n"
     ]
    }
   ],
   "source": [
    "google = google.dropna()\n",
    "print('Google Store General Information Dataset:\\n')\n",
    "print(google.isnull().sum(),'\\n')\n",
    "\n",
    "print(google.dtypes, '\\n\\n')\n",
    "\n",
    "print('Reviews of the applications dataset: \\n')\n",
    "print(review.isnull().sum(), '\\n')\n",
    "\n",
    "print(review.dtypes)"
   ]
  },
  {
   "cell_type": "markdown",
   "metadata": {},
   "source": [
    "Now we are going to verify if there are duplicates since we only want to have the data once. This step will only be using the data from the google set. The review set has no record ID and there is no way of knowing if it is simply multiple reviews with similar or same comments for an application or if it is duplicates. As such, we will make the assumption that all the records are unique. "
   ]
  },
  {
   "cell_type": "code",
   "execution_count": 12,
   "metadata": {},
   "outputs": [
    {
     "name": "stdout",
     "output_type": "stream",
     "text": [
      "Before droping the duplicates\n"
     ]
    },
    {
     "data": {
      "text/plain": [
       "1181"
      ]
     },
     "execution_count": 12,
     "metadata": {},
     "output_type": "execute_result"
    }
   ],
   "source": [
    "print('Before droping the duplicates')\n",
    "google.App.duplicated().sum()"
   ]
  },
  {
   "cell_type": "code",
   "execution_count": 13,
   "metadata": {},
   "outputs": [
    {
     "name": "stdout",
     "output_type": "stream",
     "text": [
      "After droping the duplicates\n"
     ]
    },
    {
     "data": {
      "text/plain": [
       "0"
      ]
     },
     "execution_count": 13,
     "metadata": {},
     "output_type": "execute_result"
    }
   ],
   "source": [
    "#drop the dulicates\n",
    "\n",
    "google = google.drop_duplicates(subset='App', keep='first')\n",
    "print('After droping the duplicates')\n",
    "google.App.duplicated().sum()"
   ]
  },
  {
   "cell_type": "code",
   "execution_count": 14,
   "metadata": {},
   "outputs": [
    {
     "name": "stdout",
     "output_type": "stream",
     "text": [
      "                                                 App        Category  Rating  \\\n",
      "0     Photo Editor & Candy Camera & Grid & ScrapBook  ART_AND_DESIGN     4.1   \n",
      "1                                Coloring book moana  ART_AND_DESIGN     3.9   \n",
      "2  U Launcher Lite – FREE Live Cool Themes, Hide ...  ART_AND_DESIGN     4.7   \n",
      "3                              Sketch - Draw & Paint  ART_AND_DESIGN     4.5   \n",
      "4              Pixel Draw - Number Art Coloring Book  ART_AND_DESIGN     4.3   \n",
      "\n",
      "   Reviews  Size     Installs  Type  Price Content Rating  \\\n",
      "0      159   19M      10,000+  Free    0.0       Everyone   \n",
      "1      967   14M     500,000+  Free    0.0       Everyone   \n",
      "2    87510  8.7M   5,000,000+  Free    0.0       Everyone   \n",
      "3   215644   25M  50,000,000+  Free    0.0           Teen   \n",
      "4      967  2.8M     100,000+  Free    0.0       Everyone   \n",
      "\n",
      "                      Genres Last Updated         Current Ver   Android Ver  \n",
      "0               Art & Design     7-Jan-18               1.0.0  4.0.3 and up  \n",
      "1  Art & Design;Pretend Play    15-Jan-18               2.0.0  4.0.3 and up  \n",
      "2               Art & Design     1-Aug-18               1.2.4  4.0.3 and up  \n",
      "3               Art & Design     8-Jun-18  Varies with device    4.2 and up  \n",
      "4    Art & Design;Creativity    20-Jun-18                 1.1    4.4 and up  \n"
     ]
    },
    {
     "data": {
      "text/html": [
       "<div>\n",
       "<style scoped>\n",
       "    .dataframe tbody tr th:only-of-type {\n",
       "        vertical-align: middle;\n",
       "    }\n",
       "\n",
       "    .dataframe tbody tr th {\n",
       "        vertical-align: top;\n",
       "    }\n",
       "\n",
       "    .dataframe thead th {\n",
       "        text-align: right;\n",
       "    }\n",
       "</style>\n",
       "<table border=\"1\" class=\"dataframe\">\n",
       "  <thead>\n",
       "    <tr style=\"text-align: right;\">\n",
       "      <th></th>\n",
       "      <th>App</th>\n",
       "      <th>Translated_Review</th>\n",
       "      <th>Sentiment</th>\n",
       "    </tr>\n",
       "  </thead>\n",
       "  <tbody>\n",
       "    <tr>\n",
       "      <th>0</th>\n",
       "      <td>10 Best Foods for You</td>\n",
       "      <td>I like eat delicious food. That's I'm cooking ...</td>\n",
       "      <td>Positive</td>\n",
       "    </tr>\n",
       "    <tr>\n",
       "      <th>1</th>\n",
       "      <td>10 Best Foods for You</td>\n",
       "      <td>This help eating healthy exercise regular basis</td>\n",
       "      <td>Positive</td>\n",
       "    </tr>\n",
       "    <tr>\n",
       "      <th>3</th>\n",
       "      <td>10 Best Foods for You</td>\n",
       "      <td>Works great especially going grocery store</td>\n",
       "      <td>Positive</td>\n",
       "    </tr>\n",
       "    <tr>\n",
       "      <th>4</th>\n",
       "      <td>10 Best Foods for You</td>\n",
       "      <td>Best idea us</td>\n",
       "      <td>Positive</td>\n",
       "    </tr>\n",
       "    <tr>\n",
       "      <th>5</th>\n",
       "      <td>10 Best Foods for You</td>\n",
       "      <td>Best way</td>\n",
       "      <td>Positive</td>\n",
       "    </tr>\n",
       "  </tbody>\n",
       "</table>\n",
       "</div>"
      ],
      "text/plain": [
       "                     App                                  Translated_Review  \\\n",
       "0  10 Best Foods for You  I like eat delicious food. That's I'm cooking ...   \n",
       "1  10 Best Foods for You    This help eating healthy exercise regular basis   \n",
       "3  10 Best Foods for You         Works great especially going grocery store   \n",
       "4  10 Best Foods for You                                       Best idea us   \n",
       "5  10 Best Foods for You                                           Best way   \n",
       "\n",
       "  Sentiment  \n",
       "0  Positive  \n",
       "1  Positive  \n",
       "3  Positive  \n",
       "4  Positive  \n",
       "5  Positive  "
      ]
     },
     "execution_count": 14,
     "metadata": {},
     "output_type": "execute_result"
    }
   ],
   "source": [
    "print(google.head())\n",
    "review.head()"
   ]
  },
  {
   "cell_type": "markdown",
   "metadata": {},
   "source": [
    "####  Normalizing\n",
    "\n",
    "Now that we have all the data structured and cleaned up, we can take a look at what needs to be normalized. This will help if we ever want to combine the sets or want to enrich the sets later on. By have the normalization done it will help lower the number of possible inconsistencies. \n",
    "\n",
    "The sets will need a little bit of cleaning, as to make the text as uniform as possible for what we are trying to do in the next steps of the project. "
   ]
  },
  {
   "cell_type": "code",
   "execution_count": 15,
   "metadata": {},
   "outputs": [],
   "source": [
    "#this function can be used on names and sentences and also on categories such as sentiment, content rating, etc\n",
    "def preprocess_text(name):\n",
    "    name = name.lower()\n",
    "    name = name.replace(',', ' ')\n",
    "    name = name.replace(\"'\", '')    \n",
    "    name = name.replace('&', 'and')\n",
    "    name = name.replace('?', '')\n",
    "    name = name.replace('_', ' ')\n",
    "    #name = name.decode('utf-8', 'ignore')\n",
    "    return name.strip()\n",
    "\n",
    "\n",
    "google['App'] = google['App'].map(preprocess_text)\n",
    "google['Category'] = google['Category'].map(preprocess_text)\n",
    "google['Type'] = google['Type'].map(preprocess_text)\n",
    "google['Genres'] = google['Genres'].map(preprocess_text)\n",
    "google['Content Rating'] = google['Content Rating'].map(preprocess_text)\n",
    "\n",
    "review['App'] = review['App'].map(preprocess_text)\n",
    "review['Translated_Review'] = review['Translated_Review'].map(preprocess_text)\n",
    "review['Sentiment'] = review['Sentiment'].map(preprocess_text)"
   ]
  },
  {
   "cell_type": "code",
   "execution_count": 16,
   "metadata": {},
   "outputs": [
    {
     "data": {
      "text/plain": [
       "25"
      ]
     },
     "execution_count": 16,
     "metadata": {},
     "output_type": "execute_result"
    }
   ],
   "source": [
    "google.App.duplicated().sum()"
   ]
  },
  {
   "cell_type": "code",
   "execution_count": 17,
   "metadata": {},
   "outputs": [
    {
     "name": "stdout",
     "output_type": "stream",
     "text": [
      "After droping the duplicates created by normalizing\n"
     ]
    },
    {
     "data": {
      "text/plain": [
       "0"
      ]
     },
     "execution_count": 17,
     "metadata": {},
     "output_type": "execute_result"
    }
   ],
   "source": [
    "#we have found more duplicates now that we have normalized the settings so we are going to drop the new duplicates that are found. \n",
    "\n",
    "google = google.drop_duplicates(subset='App', keep='first')\n",
    "print('After droping the duplicates created by normalizing')\n",
    "google.App.duplicated().sum()"
   ]
  },
  {
   "cell_type": "markdown",
   "metadata": {},
   "source": [
    "#### Final restructuration of the datasets:\n",
    "\n",
    "As we are now done with normalizing and cleaning, we are going to finish up some last adjustments. In the annalysis that we wil have to do, we will not use the data from the size of the app, the current version, the last time it was updated nor the android version. As these data will not be used in the analysis, we are going to take them out from our working data frame. "
   ]
  },
  {
   "cell_type": "code",
   "execution_count": 18,
   "metadata": {},
   "outputs": [],
   "source": [
    "google = google[['App', 'Category', 'Rating', 'Reviews', 'Installs', 'Type', 'Price', 'Content Rating', 'Genres']]\n"
   ]
  },
  {
   "cell_type": "markdown",
   "metadata": {},
   "source": [
    "### Dataset Descriptions\n",
    "\n",
    "Now that we have cleaned and normalized our datasets, we can take a look at what they are. \n",
    "\n",
    "Here is the set of the general information of the google store applications:\n",
    "\n"
   ]
  },
  {
   "cell_type": "code",
   "execution_count": 19,
   "metadata": {},
   "outputs": [
    {
     "data": {
      "text/html": [
       "<div>\n",
       "<style scoped>\n",
       "    .dataframe tbody tr th:only-of-type {\n",
       "        vertical-align: middle;\n",
       "    }\n",
       "\n",
       "    .dataframe tbody tr th {\n",
       "        vertical-align: top;\n",
       "    }\n",
       "\n",
       "    .dataframe thead th {\n",
       "        text-align: right;\n",
       "    }\n",
       "</style>\n",
       "<table border=\"1\" class=\"dataframe\">\n",
       "  <thead>\n",
       "    <tr style=\"text-align: right;\">\n",
       "      <th></th>\n",
       "      <th>App</th>\n",
       "      <th>Category</th>\n",
       "      <th>Rating</th>\n",
       "      <th>Reviews</th>\n",
       "      <th>Installs</th>\n",
       "      <th>Type</th>\n",
       "      <th>Price</th>\n",
       "      <th>Content Rating</th>\n",
       "      <th>Genres</th>\n",
       "    </tr>\n",
       "  </thead>\n",
       "  <tbody>\n",
       "    <tr>\n",
       "      <th>0</th>\n",
       "      <td>photo editor and candy camera and grid and scr...</td>\n",
       "      <td>art and design</td>\n",
       "      <td>4.1</td>\n",
       "      <td>159</td>\n",
       "      <td>10,000+</td>\n",
       "      <td>free</td>\n",
       "      <td>0.0</td>\n",
       "      <td>everyone</td>\n",
       "      <td>art and design</td>\n",
       "    </tr>\n",
       "    <tr>\n",
       "      <th>1</th>\n",
       "      <td>coloring book moana</td>\n",
       "      <td>art and design</td>\n",
       "      <td>3.9</td>\n",
       "      <td>967</td>\n",
       "      <td>500,000+</td>\n",
       "      <td>free</td>\n",
       "      <td>0.0</td>\n",
       "      <td>everyone</td>\n",
       "      <td>art and design;pretend play</td>\n",
       "    </tr>\n",
       "    <tr>\n",
       "      <th>2</th>\n",
       "      <td>u launcher lite – free live cool themes  hide ...</td>\n",
       "      <td>art and design</td>\n",
       "      <td>4.7</td>\n",
       "      <td>87510</td>\n",
       "      <td>5,000,000+</td>\n",
       "      <td>free</td>\n",
       "      <td>0.0</td>\n",
       "      <td>everyone</td>\n",
       "      <td>art and design</td>\n",
       "    </tr>\n",
       "    <tr>\n",
       "      <th>3</th>\n",
       "      <td>sketch - draw and paint</td>\n",
       "      <td>art and design</td>\n",
       "      <td>4.5</td>\n",
       "      <td>215644</td>\n",
       "      <td>50,000,000+</td>\n",
       "      <td>free</td>\n",
       "      <td>0.0</td>\n",
       "      <td>teen</td>\n",
       "      <td>art and design</td>\n",
       "    </tr>\n",
       "    <tr>\n",
       "      <th>4</th>\n",
       "      <td>pixel draw - number art coloring book</td>\n",
       "      <td>art and design</td>\n",
       "      <td>4.3</td>\n",
       "      <td>967</td>\n",
       "      <td>100,000+</td>\n",
       "      <td>free</td>\n",
       "      <td>0.0</td>\n",
       "      <td>everyone</td>\n",
       "      <td>art and design;creativity</td>\n",
       "    </tr>\n",
       "    <tr>\n",
       "      <th>5</th>\n",
       "      <td>paper flowers instructions</td>\n",
       "      <td>art and design</td>\n",
       "      <td>4.4</td>\n",
       "      <td>167</td>\n",
       "      <td>50,000+</td>\n",
       "      <td>free</td>\n",
       "      <td>0.0</td>\n",
       "      <td>everyone</td>\n",
       "      <td>art and design</td>\n",
       "    </tr>\n",
       "    <tr>\n",
       "      <th>6</th>\n",
       "      <td>smoke effect photo maker - smoke editor</td>\n",
       "      <td>art and design</td>\n",
       "      <td>3.8</td>\n",
       "      <td>178</td>\n",
       "      <td>50,000+</td>\n",
       "      <td>free</td>\n",
       "      <td>0.0</td>\n",
       "      <td>everyone</td>\n",
       "      <td>art and design</td>\n",
       "    </tr>\n",
       "    <tr>\n",
       "      <th>7</th>\n",
       "      <td>infinite painter</td>\n",
       "      <td>art and design</td>\n",
       "      <td>4.1</td>\n",
       "      <td>36815</td>\n",
       "      <td>1,000,000+</td>\n",
       "      <td>free</td>\n",
       "      <td>0.0</td>\n",
       "      <td>everyone</td>\n",
       "      <td>art and design</td>\n",
       "    </tr>\n",
       "    <tr>\n",
       "      <th>8</th>\n",
       "      <td>garden coloring book</td>\n",
       "      <td>art and design</td>\n",
       "      <td>4.4</td>\n",
       "      <td>13791</td>\n",
       "      <td>1,000,000+</td>\n",
       "      <td>free</td>\n",
       "      <td>0.0</td>\n",
       "      <td>everyone</td>\n",
       "      <td>art and design</td>\n",
       "    </tr>\n",
       "    <tr>\n",
       "      <th>9</th>\n",
       "      <td>kids paint free - drawing fun</td>\n",
       "      <td>art and design</td>\n",
       "      <td>4.7</td>\n",
       "      <td>121</td>\n",
       "      <td>10,000+</td>\n",
       "      <td>free</td>\n",
       "      <td>0.0</td>\n",
       "      <td>everyone</td>\n",
       "      <td>art and design;creativity</td>\n",
       "    </tr>\n",
       "  </tbody>\n",
       "</table>\n",
       "</div>"
      ],
      "text/plain": [
       "                                                 App        Category  Rating  \\\n",
       "0  photo editor and candy camera and grid and scr...  art and design     4.1   \n",
       "1                                coloring book moana  art and design     3.9   \n",
       "2  u launcher lite – free live cool themes  hide ...  art and design     4.7   \n",
       "3                            sketch - draw and paint  art and design     4.5   \n",
       "4              pixel draw - number art coloring book  art and design     4.3   \n",
       "5                         paper flowers instructions  art and design     4.4   \n",
       "6            smoke effect photo maker - smoke editor  art and design     3.8   \n",
       "7                                   infinite painter  art and design     4.1   \n",
       "8                               garden coloring book  art and design     4.4   \n",
       "9                      kids paint free - drawing fun  art and design     4.7   \n",
       "\n",
       "   Reviews     Installs  Type  Price Content Rating  \\\n",
       "0      159      10,000+  free    0.0       everyone   \n",
       "1      967     500,000+  free    0.0       everyone   \n",
       "2    87510   5,000,000+  free    0.0       everyone   \n",
       "3   215644  50,000,000+  free    0.0           teen   \n",
       "4      967     100,000+  free    0.0       everyone   \n",
       "5      167      50,000+  free    0.0       everyone   \n",
       "6      178      50,000+  free    0.0       everyone   \n",
       "7    36815   1,000,000+  free    0.0       everyone   \n",
       "8    13791   1,000,000+  free    0.0       everyone   \n",
       "9      121      10,000+  free    0.0       everyone   \n",
       "\n",
       "                        Genres  \n",
       "0               art and design  \n",
       "1  art and design;pretend play  \n",
       "2               art and design  \n",
       "3               art and design  \n",
       "4    art and design;creativity  \n",
       "5               art and design  \n",
       "6               art and design  \n",
       "7               art and design  \n",
       "8               art and design  \n",
       "9    art and design;creativity  "
      ]
     },
     "execution_count": 19,
     "metadata": {},
     "output_type": "execute_result"
    }
   ],
   "source": [
    "\n",
    "google.head(10)\n"
   ]
  },
  {
   "cell_type": "code",
   "execution_count": 20,
   "metadata": {},
   "outputs": [
    {
     "data": {
      "text/plain": [
       "App                object\n",
       "Category           object\n",
       "Rating            float64\n",
       "Reviews             int64\n",
       "Installs           object\n",
       "Type               object\n",
       "Price             float64\n",
       "Content Rating     object\n",
       "Genres             object\n",
       "dtype: object"
      ]
     },
     "execution_count": 20,
     "metadata": {},
     "output_type": "execute_result"
    }
   ],
   "source": [
    "google.dtypes"
   ]
  },
  {
   "cell_type": "code",
   "execution_count": 21,
   "metadata": {},
   "outputs": [
    {
     "name": "stdout",
     "output_type": "stream",
     "text": [
      "count                            9623\n",
      "unique                           9623\n",
      "top       skout - meet  chat  go live\n",
      "freq                                1\n",
      "Name: App, dtype: object \n",
      "\n",
      "count       9623\n",
      "unique        33\n",
      "top       family\n",
      "freq        1822\n",
      "Name: Category, dtype: object \n",
      "\n",
      "count    9623.000000\n",
      "mean        4.176849\n",
      "std         0.494663\n",
      "min         1.000000\n",
      "25%         4.000000\n",
      "50%         4.200000\n",
      "75%         4.500000\n",
      "max         5.000000\n",
      "Name: Rating, dtype: float64 \n",
      "\n",
      "count    9.623000e+03\n",
      "mean     2.168584e+05\n",
      "std      1.834069e+06\n",
      "min      0.000000e+00\n",
      "25%      2.500000e+01\n",
      "50%      9.750000e+02\n",
      "75%      2.949000e+04\n",
      "max      7.815831e+07\n",
      "Name: Reviews, dtype: float64 \n",
      "\n",
      "count           9623\n",
      "unique            20\n",
      "top       1,000,000+\n",
      "freq            1415\n",
      "Name: Installs, dtype: object \n",
      "\n",
      "count     9623\n",
      "unique       2\n",
      "top       free\n",
      "freq      8873\n",
      "Name: Type, dtype: object \n",
      "\n",
      "count         9623\n",
      "unique           6\n",
      "top       everyone\n",
      "freq          7870\n",
      "Name: Content Rating, dtype: object \n",
      "\n",
      "count      9623\n",
      "unique      118\n",
      "top       tools\n",
      "freq        820\n",
      "Name: Genres, dtype: object \n",
      "\n"
     ]
    }
   ],
   "source": [
    "print(google.App.describe(),'\\n')\n",
    "print(google.Category.describe(),'\\n')\n",
    "print(google.Rating.describe(),'\\n')\n",
    "print(google.Reviews.describe(),'\\n')\n",
    "print(google.Installs.describe(),'\\n')\n",
    "print(google.Type.describe(),'\\n')\n",
    "print(google['Content Rating'].describe(),'\\n')\n",
    "print(google.Genres.describe(),'\\n')"
   ]
  },
  {
   "cell_type": "code",
   "execution_count": 22,
   "metadata": {},
   "outputs": [
    {
     "data": {
      "text/html": [
       "<div>\n",
       "<style scoped>\n",
       "    .dataframe tbody tr th:only-of-type {\n",
       "        vertical-align: middle;\n",
       "    }\n",
       "\n",
       "    .dataframe tbody tr th {\n",
       "        vertical-align: top;\n",
       "    }\n",
       "\n",
       "    .dataframe thead th {\n",
       "        text-align: right;\n",
       "    }\n",
       "</style>\n",
       "<table border=\"1\" class=\"dataframe\">\n",
       "  <thead>\n",
       "    <tr style=\"text-align: right;\">\n",
       "      <th></th>\n",
       "      <th>App</th>\n",
       "      <th>Translated_Review</th>\n",
       "      <th>Sentiment</th>\n",
       "    </tr>\n",
       "  </thead>\n",
       "  <tbody>\n",
       "    <tr>\n",
       "      <th>0</th>\n",
       "      <td>10 best foods for you</td>\n",
       "      <td>i like eat delicious food. thats im cooking fo...</td>\n",
       "      <td>positive</td>\n",
       "    </tr>\n",
       "    <tr>\n",
       "      <th>1</th>\n",
       "      <td>10 best foods for you</td>\n",
       "      <td>this help eating healthy exercise regular basis</td>\n",
       "      <td>positive</td>\n",
       "    </tr>\n",
       "    <tr>\n",
       "      <th>3</th>\n",
       "      <td>10 best foods for you</td>\n",
       "      <td>works great especially going grocery store</td>\n",
       "      <td>positive</td>\n",
       "    </tr>\n",
       "    <tr>\n",
       "      <th>4</th>\n",
       "      <td>10 best foods for you</td>\n",
       "      <td>best idea us</td>\n",
       "      <td>positive</td>\n",
       "    </tr>\n",
       "    <tr>\n",
       "      <th>5</th>\n",
       "      <td>10 best foods for you</td>\n",
       "      <td>best way</td>\n",
       "      <td>positive</td>\n",
       "    </tr>\n",
       "    <tr>\n",
       "      <th>6</th>\n",
       "      <td>10 best foods for you</td>\n",
       "      <td>amazing</td>\n",
       "      <td>positive</td>\n",
       "    </tr>\n",
       "    <tr>\n",
       "      <th>8</th>\n",
       "      <td>10 best foods for you</td>\n",
       "      <td>looking forward app</td>\n",
       "      <td>neutral</td>\n",
       "    </tr>\n",
       "    <tr>\n",
       "      <th>9</th>\n",
       "      <td>10 best foods for you</td>\n",
       "      <td>it helpful site ! it help foods get !</td>\n",
       "      <td>neutral</td>\n",
       "    </tr>\n",
       "    <tr>\n",
       "      <th>10</th>\n",
       "      <td>10 best foods for you</td>\n",
       "      <td>good you.</td>\n",
       "      <td>positive</td>\n",
       "    </tr>\n",
       "    <tr>\n",
       "      <th>11</th>\n",
       "      <td>10 best foods for you</td>\n",
       "      <td>useful information the amount spelling errors ...</td>\n",
       "      <td>positive</td>\n",
       "    </tr>\n",
       "  </tbody>\n",
       "</table>\n",
       "</div>"
      ],
      "text/plain": [
       "                      App                                  Translated_Review  \\\n",
       "0   10 best foods for you  i like eat delicious food. thats im cooking fo...   \n",
       "1   10 best foods for you    this help eating healthy exercise regular basis   \n",
       "3   10 best foods for you         works great especially going grocery store   \n",
       "4   10 best foods for you                                       best idea us   \n",
       "5   10 best foods for you                                           best way   \n",
       "6   10 best foods for you                                            amazing   \n",
       "8   10 best foods for you                                looking forward app   \n",
       "9   10 best foods for you              it helpful site ! it help foods get !   \n",
       "10  10 best foods for you                                          good you.   \n",
       "11  10 best foods for you  useful information the amount spelling errors ...   \n",
       "\n",
       "   Sentiment  \n",
       "0   positive  \n",
       "1   positive  \n",
       "3   positive  \n",
       "4   positive  \n",
       "5   positive  \n",
       "6   positive  \n",
       "8    neutral  \n",
       "9    neutral  \n",
       "10  positive  \n",
       "11  positive  "
      ]
     },
     "execution_count": 22,
     "metadata": {},
     "output_type": "execute_result"
    }
   ],
   "source": [
    "review.head(10)"
   ]
  },
  {
   "cell_type": "code",
   "execution_count": 23,
   "metadata": {},
   "outputs": [
    {
     "data": {
      "text/plain": [
       "App                  object\n",
       "Translated_Review    object\n",
       "Sentiment            object\n",
       "dtype: object"
      ]
     },
     "execution_count": 23,
     "metadata": {},
     "output_type": "execute_result"
    }
   ],
   "source": [
    "review.dtypes"
   ]
  },
  {
   "cell_type": "code",
   "execution_count": 24,
   "metadata": {},
   "outputs": [
    {
     "name": "stdout",
     "output_type": "stream",
     "text": [
      "count          37427\n",
      "unique           865\n",
      "top       bowmasters\n",
      "freq             312\n",
      "Name: App, dtype: object \n",
      "\n",
      "count     37427\n",
      "unique    27866\n",
      "top        good\n",
      "freq        296\n",
      "Name: Translated_Review, dtype: object \n",
      "\n",
      "count        37427\n",
      "unique           3\n",
      "top       positive\n",
      "freq         23998\n",
      "Name: Sentiment, dtype: object \n",
      "\n"
     ]
    }
   ],
   "source": [
    "print(review.App.describe(),'\\n')\n",
    "print(review.Translated_Review.describe(),'\\n')\n",
    "print(review.Sentiment.describe(),'\\n')"
   ]
  },
  {
   "cell_type": "markdown",
   "metadata": {},
   "source": [
    "### Summary\n",
    "\n",
    "As a summary and ending note for this preliminary report here are the guidelines of the questions that we are going to be asked and that we are looking for answers to. For the questions that we want to answer they are:\n",
    "\n",
    "\n",
    "1- What is more popular and fruitfull between free and paid applications and predict the present and upcoming trend?\n",
    "\n",
    "2- What are the rising trends in the app type that will have won the previous question?\n",
    "\n",
    "3- Predict the impact of the reviews and rating on the number of downloads.\n",
    "\n",
    "Now we are using two main dataset, google play general information and reviews information. However, for the first two questions we wil be using solely the first dataset. The second dataset will be used duging the third phase and we will try to use natural processing to make new features and try to see how the comments and ratings might affect and lead to a more successfull application. \n",
    "\n",
    "A note to keep in mind, as the exploratory data analysis will be done, the first dataset might be enriched with other datasets that were inspired by that dataset and that have even more data. Those datasets mght be used for testing or validation purposes but are not the main ones. Their use will be evaluated in more details as we go further in the analysis. \n",
    "\n",
    "The dataset that might be used for enrichment, validation or testing is the following: \n",
    "https://www.kaggle.com/gauthamp10/google-playstore-apps\n",
    "\n",
    "\n",
    "\n"
   ]
  }
 ],
 "metadata": {
  "kernelspec": {
   "display_name": "Python 3",
   "language": "python",
   "name": "python3"
  },
  "language_info": {
   "codemirror_mode": {
    "name": "ipython",
    "version": 3
   },
   "file_extension": ".py",
   "mimetype": "text/x-python",
   "name": "python",
   "nbconvert_exporter": "python",
   "pygments_lexer": "ipython3",
   "version": "3.6.5"
  }
 },
 "nbformat": 4,
 "nbformat_minor": 2
}
